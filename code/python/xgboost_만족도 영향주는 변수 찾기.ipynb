{
 "cells": [
  {
   "cell_type": "code",
   "execution_count": 4,
   "id": "c360b30a",
   "metadata": {},
   "outputs": [],
   "source": [
    "import pandas as pd\n",
    "import numpy as np\n",
    "import matplotlib\n",
    "from xgboost import plot_importance\n",
    "import matplotlib.pyplot as plt"
   ]
  },
  {
   "cell_type": "code",
   "execution_count": 3,
   "id": "5a8f2c3d",
   "metadata": {},
   "outputs": [
    {
     "name": "stdout",
     "output_type": "stream",
     "text": [
      "Collecting package metadata (current_repodata.json): ...working... done\n",
      "Solving environment: ...working... done\n",
      "\n",
      "## Package Plan ##\n",
      "\n",
      "  environment location: C:\\Users\\82102\\anaconda3\n",
      "\n",
      "  added / updated specs:\n",
      "    - py-xgboost\n",
      "\n",
      "\n",
      "The following packages will be downloaded:\n",
      "\n",
      "    package                    |            build\n",
      "    ---------------------------|-----------------\n",
      "    _py-xgboost-mutex-2.0      |            cpu_0          12 KB  anaconda\n",
      "    certifi-2021.10.8          |   py39haa95532_0         155 KB  anaconda\n",
      "    conda-4.13.0               |   py39haa95532_0        1016 KB  anaconda\n",
      "    libxgboost-1.5.0           |       hd77b12b_1         2.3 MB  anaconda\n",
      "    py-xgboost-1.5.0           |   py39haa95532_1         166 KB  anaconda\n",
      "    ------------------------------------------------------------\n",
      "                                           Total:         3.6 MB\n",
      "\n",
      "The following NEW packages will be INSTALLED:\n",
      "\n",
      "  _py-xgboost-mutex  anaconda/win-64::_py-xgboost-mutex-2.0-cpu_0\n",
      "  libxgboost         anaconda/win-64::libxgboost-1.5.0-hd77b12b_1\n",
      "  py-xgboost         anaconda/win-64::py-xgboost-1.5.0-py39haa95532_1\n",
      "\n",
      "The following packages will be UPDATED:\n",
      "\n",
      "  conda              pkgs/main::conda-4.12.0-py39haa95532_0 --> anaconda::conda-4.13.0-py39haa95532_0\n",
      "\n",
      "The following packages will be SUPERSEDED by a higher-priority channel:\n",
      "\n",
      "  certifi                                         pkgs/main --> anaconda\n",
      "\n",
      "\n",
      "\n",
      "Downloading and Extracting Packages\n",
      "\n",
      "py-xgboost-1.5.0     | 166 KB    |            |   0% \n",
      "py-xgboost-1.5.0     | 166 KB    | 9          |  10% \n",
      "py-xgboost-1.5.0     | 166 KB    | ########## | 100% \n",
      "py-xgboost-1.5.0     | 166 KB    | ########## | 100% \n",
      "\n",
      "certifi-2021.10.8    | 155 KB    |            |   0% \n",
      "certifi-2021.10.8    | 155 KB    | ########## | 100% \n",
      "certifi-2021.10.8    | 155 KB    | ########## | 100% \n",
      "\n",
      "libxgboost-1.5.0     | 2.3 MB    |            |   0% \n",
      "libxgboost-1.5.0     | 2.3 MB    | ####2      |  42% \n",
      "libxgboost-1.5.0     | 2.3 MB    | #######1   |  72% \n",
      "libxgboost-1.5.0     | 2.3 MB    | ########## | 100% \n",
      "libxgboost-1.5.0     | 2.3 MB    | ########## | 100% \n",
      "\n",
      "conda-4.13.0         | 1016 KB   |            |   0% \n",
      "conda-4.13.0         | 1016 KB   | 7          |   8% \n",
      "conda-4.13.0         | 1016 KB   | ########## | 100% \n",
      "conda-4.13.0         | 1016 KB   | ########## | 100% \n",
      "\n",
      "_py-xgboost-mutex-2. | 12 KB     |            |   0% \n",
      "_py-xgboost-mutex-2. | 12 KB     | ########## | 100% \n",
      "Preparing transaction: ...working... done\n",
      "Verifying transaction: ...working... done\n",
      "Executing transaction: ...working... done\n",
      "\n",
      "Note: you may need to restart the kernel to use updated packages.\n"
     ]
    },
    {
     "name": "stderr",
     "output_type": "stream",
     "text": [
      "\n",
      "\n",
      "==> WARNING: A newer version of conda exists. <==\n",
      "  current version: 4.12.0\n",
      "  latest version: 4.13.0\n",
      "\n",
      "Please update conda by running\n",
      "\n",
      "    $ conda update -n base -c defaults conda\n",
      "\n",
      "\n"
     ]
    }
   ],
   "source": [
    "conda install -c anaconda py-xgboost"
   ]
  },
  {
   "cell_type": "code",
   "execution_count": 19,
   "id": "62726887",
   "metadata": {},
   "outputs": [
    {
     "name": "stdout",
     "output_type": "stream",
     "text": [
      "Collecting package metadata (current_repodata.json): ...working... done\n",
      "Note: you may need to restart the kernel to use updated packages.\n",
      "Solving environment: ...working... \n",
      "Warning: 2 possible package resolutions (only showing differing packages):\n",
      "  - anaconda/win-64::certifi-2021.10.8-py39haa95532_0\n",
      "  - defaults/win-64::certifi-2021.10.8-py39haa95532_0done\n",
      "\n",
      "## Package Plan ##\n",
      "\n",
      "  environment location: C:\\Users\\82102\\anaconda3\n",
      "\n",
      "  added / updated specs:\n",
      "    - lightgbm\n",
      "\n",
      "\n",
      "The following packages will be downloaded:\n",
      "\n",
      "    package                    |            build\n",
      "    ---------------------------|-----------------\n",
      "\n",
      "    conda-4.13.0               |   py39hcbf5309_1         1.0 MB  conda-forge\n",
      "    lightgbm-3.3.2             |   py39h415ef7b_0         901 KB  conda-forge\n",
      "    python_abi-3.9             |           2_cp39           4 KB  conda-forge\n",
      "    ------------------------------------------------------------\n",
      "                                           Total:         1.9 MB\n",
      "\n",
      "The following NEW packages will be INSTALLED:\n",
      "\n",
      "  lightgbm           conda-forge/win-64::lightgbm-3.3.2-py39h415ef7b_0\n",
      "  python_abi         conda-forge/win-64::python_abi-3.9-2_cp39\n",
      "\n",
      "The following packages will be UPDATED:\n",
      "\n",
      "  conda               anaconda::conda-4.13.0-py39haa95532_0 --> conda-forge::conda-4.13.0-py39hcbf5309_1\n",
      "\n",
      "\n",
      "\n",
      "Downloading and Extracting Packages\n",
      "\n",
      "lightgbm-3.3.2       | 901 KB    |            |   0% \n",
      "lightgbm-3.3.2       | 901 KB    | #4         |  14% \n",
      "lightgbm-3.3.2       | 901 KB    | ########## | 100% \n",
      "lightgbm-3.3.2       | 901 KB    | ########## | 100% \n",
      "\n",
      "python_abi-3.9       | 4 KB      |            |   0% \n",
      "python_abi-3.9       | 4 KB      | ########## | 100% \n",
      "\n",
      "conda-4.13.0         | 1.0 MB    |            |   0% \n",
      "conda-4.13.0         | 1.0 MB    | ##9        |  30% \n",
      "conda-4.13.0         | 1.0 MB    | ########## | 100% \n",
      "conda-4.13.0         | 1.0 MB    | ########## | 100% \n",
      "Preparing transaction: ...working... done\n",
      "Verifying transaction: ...working... done\n",
      "Executing transaction: ...working... done\n"
     ]
    }
   ],
   "source": [
    "conda install -c conda-forge lightgbm"
   ]
  },
  {
   "cell_type": "code",
   "execution_count": 8,
   "id": "a2ec05af",
   "metadata": {},
   "outputs": [],
   "source": [
    "travel=pd.read_csv('C:/Users/82102/Desktop/문화 관광 project/문화관광 프로젝트 R/국민여행조사설문통합데이터(여행자최종tour_cl).csv', encoding='cp949',low_memory=False)"
   ]
  },
  {
   "cell_type": "code",
   "execution_count": 58,
   "id": "b3fceb94",
   "metadata": {},
   "outputs": [],
   "source": [
    "import xgboost as xgb\n",
    "from xgboost import plot_importance\n",
    "import os\n",
    "import pandas as pd\n",
    "import numpy as np\n",
    "from sklearn.datasets import load_breast_cancer\n",
    "from sklearn.model_selection import train_test_split\n",
    "import warnings\n",
    "from sklearn import metrics\n",
    "warnings.filterwarnings('ignore')\n",
    "from xgboost import XGBClassifier\n",
    "from sklearn.metrics import confusion_matrix\n",
    "\n",
    "dataset=travel\n",
    "X=dataset.loc[:,['여행활동', '계절', 'A4_1','tour_cluster']]\n",
    "y=dataset.loc[:,'A10']"
   ]
  },
  {
   "cell_type": "code",
   "execution_count": 57,
   "id": "67627984",
   "metadata": {},
   "outputs": [
    {
     "data": {
      "text/plain": [
       "Index(['ID', '여행경험여부', 'when_travel', 'travel_day', 'travel_cost', 'sleep_1',\n",
       "       'sleep_2', 'sleep_3', 'A1_1', 'A1_2', 'A1_3', 'A4_1', 'A4_2', 'A4_3',\n",
       "       'A7', 'A10', 'A10A_1', 'A10A_2', 'A10A_3', 'A10A_4', 'A10A_5', 'A10A_6',\n",
       "       'A10A_7', 'A10A_8', 'A10A_9', 'A10A_10', 'A10A_11', 'A10A_12', 'A11',\n",
       "       'B9_1', 'B9_2', 'B9_3', 'DQ6A', 'DQ6B', 'BSEX', 'BAGE', 'year',\n",
       "       '방문지역_시군구', '방문지역_시도', '거주지', '근교여행여부', '계절', '여행방문순서', '여행활동',\n",
       "       'tour_cluster'],\n",
       "      dtype='object')"
      ]
     },
     "execution_count": 57,
     "metadata": {},
     "output_type": "execute_result"
    }
   ],
   "source": [
    "travel.columns"
   ]
  },
  {
   "cell_type": "code",
   "execution_count": 31,
   "id": "9d051ea9",
   "metadata": {},
   "outputs": [],
   "source": [
    "for i in range(2):\n",
    "    if X[X.columns[i]].dtype == 'int64':\n",
    "           X[X.columns[i]] = X[X.columns[i]].astype('int32')\n",
    "    elif X[X.columns[i]].dtype == 'object':\n",
    "           X[X.columns[i]] = X[X.columns[i]].astype('category')\n",
    "    elif X[X.columns[i]].dtype == 'float64':\n",
    "           X[X.columns[i]] = X[X.columns[i]].astype('float32')"
   ]
  },
  {
   "cell_type": "code",
   "execution_count": 59,
   "id": "d858354f",
   "metadata": {},
   "outputs": [],
   "source": [
    "X.loc[:,'A4_1']=X.loc[:,'A4_1'].astype('category')\n",
    "X.loc[:,'여행활동']=X.loc[:,'여행활동'].astype('category')\n",
    "X.loc[:,'계절']=X.loc[:,'계절'].astype('category')\n",
    "X.loc[:,'tour_cluster']=X.loc[:,'tour_cluster'].astype('category')"
   ]
  },
  {
   "cell_type": "code",
   "execution_count": 46,
   "id": "56df3b64",
   "metadata": {},
   "outputs": [
    {
     "data": {
      "text/html": [
       "<div>\n",
       "<style scoped>\n",
       "    .dataframe tbody tr th:only-of-type {\n",
       "        vertical-align: middle;\n",
       "    }\n",
       "\n",
       "    .dataframe tbody tr th {\n",
       "        vertical-align: top;\n",
       "    }\n",
       "\n",
       "    .dataframe thead th {\n",
       "        text-align: right;\n",
       "    }\n",
       "</style>\n",
       "<table border=\"1\" class=\"dataframe\">\n",
       "  <thead>\n",
       "    <tr style=\"text-align: right;\">\n",
       "      <th></th>\n",
       "      <th>여행활동</th>\n",
       "      <th>계절</th>\n",
       "      <th>A4_1</th>\n",
       "    </tr>\n",
       "  </thead>\n",
       "  <tbody>\n",
       "    <tr>\n",
       "      <th>0</th>\n",
       "      <td>1</td>\n",
       "      <td>겨울</td>\n",
       "      <td>1</td>\n",
       "    </tr>\n",
       "    <tr>\n",
       "      <th>1</th>\n",
       "      <td>2</td>\n",
       "      <td>겨울</td>\n",
       "      <td>1</td>\n",
       "    </tr>\n",
       "    <tr>\n",
       "      <th>2</th>\n",
       "      <td>7</td>\n",
       "      <td>겨울</td>\n",
       "      <td>1</td>\n",
       "    </tr>\n",
       "    <tr>\n",
       "      <th>3</th>\n",
       "      <td>18</td>\n",
       "      <td>겨울</td>\n",
       "      <td>1</td>\n",
       "    </tr>\n",
       "    <tr>\n",
       "      <th>4</th>\n",
       "      <td>1</td>\n",
       "      <td>겨울</td>\n",
       "      <td>14</td>\n",
       "    </tr>\n",
       "    <tr>\n",
       "      <th>...</th>\n",
       "      <td>...</td>\n",
       "      <td>...</td>\n",
       "      <td>...</td>\n",
       "    </tr>\n",
       "    <tr>\n",
       "      <th>150879</th>\n",
       "      <td>6</td>\n",
       "      <td>가을</td>\n",
       "      <td>14</td>\n",
       "    </tr>\n",
       "    <tr>\n",
       "      <th>150880</th>\n",
       "      <td>15</td>\n",
       "      <td>가을</td>\n",
       "      <td>14</td>\n",
       "    </tr>\n",
       "    <tr>\n",
       "      <th>150881</th>\n",
       "      <td>17</td>\n",
       "      <td>가을</td>\n",
       "      <td>14</td>\n",
       "    </tr>\n",
       "    <tr>\n",
       "      <th>150882</th>\n",
       "      <td>1</td>\n",
       "      <td>가을</td>\n",
       "      <td>5</td>\n",
       "    </tr>\n",
       "    <tr>\n",
       "      <th>150883</th>\n",
       "      <td>2</td>\n",
       "      <td>가을</td>\n",
       "      <td>5</td>\n",
       "    </tr>\n",
       "  </tbody>\n",
       "</table>\n",
       "<p>150884 rows × 3 columns</p>\n",
       "</div>"
      ],
      "text/plain": [
       "       여행활동  계절 A4_1\n",
       "0         1  겨울    1\n",
       "1         2  겨울    1\n",
       "2         7  겨울    1\n",
       "3        18  겨울    1\n",
       "4         1  겨울   14\n",
       "...     ...  ..  ...\n",
       "150879    6  가을   14\n",
       "150880   15  가을   14\n",
       "150881   17  가을   14\n",
       "150882    1  가을    5\n",
       "150883    2  가을    5\n",
       "\n",
       "[150884 rows x 3 columns]"
      ]
     },
     "execution_count": 46,
     "metadata": {},
     "output_type": "execute_result"
    }
   ],
   "source": [
    "X"
   ]
  },
  {
   "cell_type": "code",
   "execution_count": 60,
   "id": "e88a1331",
   "metadata": {},
   "outputs": [],
   "source": [
    "f=pd.get_dummies(X)"
   ]
  },
  {
   "cell_type": "code",
   "execution_count": 61,
   "id": "398e75d5",
   "metadata": {},
   "outputs": [
    {
     "name": "stdout",
     "output_type": "stream",
     "text": [
      "length of X_train and x_test:  120707 30177\n",
      "length of y_train and y_test:  120707 30177\n"
     ]
    }
   ],
   "source": [
    "#Train/test split\n",
    "\n",
    "X_train, X_test, y_train, y_test = train_test_split(f, y, test_size=0.2, random_state=101, stratify=y)\n",
    "print('length of X_train and x_test: ', len(X_train), len(X_test))\n",
    "print('length of y_train and y_test: ', len(y_train), len(y_test))"
   ]
  },
  {
   "cell_type": "code",
   "execution_count": 65,
   "id": "412573c5",
   "metadata": {},
   "outputs": [
    {
     "name": "stdout",
     "output_type": "stream",
     "text": [
      "[1]\tvalid_0's multi_logloss: 0.749774\n",
      "[2]\tvalid_0's multi_logloss: 0.706158\n",
      "[3]\tvalid_0's multi_logloss: 0.743833\n",
      "[4]\tvalid_0's multi_logloss: 0.703594\n",
      "[5]\tvalid_0's multi_logloss: 0.770946\n",
      "[6]\tvalid_0's multi_logloss: 0.721433\n",
      "[7]\tvalid_0's multi_logloss: 0.765319\n",
      "[8]\tvalid_0's multi_logloss: 0.765909\n",
      "[9]\tvalid_0's multi_logloss: 0.708757\n",
      "[10]\tvalid_0's multi_logloss: 0.79358\n",
      "[11]\tvalid_0's multi_logloss: 0.698448\n",
      "[12]\tvalid_0's multi_logloss: 0.792484\n",
      "[13]\tvalid_0's multi_logloss: 0.795737\n",
      "[14]\tvalid_0's multi_logloss: 0.804071\n",
      "[15]\tvalid_0's multi_logloss: 0.751724\n",
      "[16]\tvalid_0's multi_logloss: 0.851038\n",
      "[17]\tvalid_0's multi_logloss: 0.761621\n",
      "[18]\tvalid_0's multi_logloss: 0.802243\n",
      "[19]\tvalid_0's multi_logloss: 0.809742\n",
      "[20]\tvalid_0's multi_logloss: 0.802922\n",
      "[21]\tvalid_0's multi_logloss: 0.981507\n",
      "[22]\tvalid_0's multi_logloss: 0.894011\n",
      "[23]\tvalid_0's multi_logloss: 1.03111\n",
      "[24]\tvalid_0's multi_logloss: 1.37364\n",
      "[25]\tvalid_0's multi_logloss: 1.40744\n",
      "[26]\tvalid_0's multi_logloss: 1.22522\n",
      "[27]\tvalid_0's multi_logloss: 1.58207\n",
      "[28]\tvalid_0's multi_logloss: 1.52611\n",
      "[29]\tvalid_0's multi_logloss: 1.62085\n",
      "[30]\tvalid_0's multi_logloss: 1.22059\n",
      "[31]\tvalid_0's multi_logloss: 1.51696\n",
      "[32]\tvalid_0's multi_logloss: 1.41371\n",
      "[33]\tvalid_0's multi_logloss: 1.71701\n",
      "[34]\tvalid_0's multi_logloss: 2.63703\n",
      "[35]\tvalid_0's multi_logloss: 2.42715\n",
      "[36]\tvalid_0's multi_logloss: 2.48628\n",
      "[37]\tvalid_0's multi_logloss: 2.48369\n",
      "[38]\tvalid_0's multi_logloss: 2.3527\n",
      "[39]\tvalid_0's multi_logloss: 3.10681\n",
      "[40]\tvalid_0's multi_logloss: 2.94145\n",
      "[41]\tvalid_0's multi_logloss: 3.26549\n",
      "[42]\tvalid_0's multi_logloss: 2.74696\n",
      "[43]\tvalid_0's multi_logloss: 3.47257\n",
      "[44]\tvalid_0's multi_logloss: 2.91296\n",
      "[45]\tvalid_0's multi_logloss: 3.66628\n",
      "[46]\tvalid_0's multi_logloss: 2.89641\n",
      "[47]\tvalid_0's multi_logloss: 3.66358\n",
      "[48]\tvalid_0's multi_logloss: 2.93862\n",
      "[49]\tvalid_0's multi_logloss: 3.49399\n",
      "[50]\tvalid_0's multi_logloss: 3.03848\n",
      "[51]\tvalid_0's multi_logloss: 3.24766\n",
      "[52]\tvalid_0's multi_logloss: 3.22651\n",
      "[53]\tvalid_0's multi_logloss: 3.23213\n",
      "[54]\tvalid_0's multi_logloss: 3.01676\n",
      "[55]\tvalid_0's multi_logloss: 3.01354\n",
      "[56]\tvalid_0's multi_logloss: 3.10803\n",
      "[57]\tvalid_0's multi_logloss: 3.08046\n",
      "[58]\tvalid_0's multi_logloss: 3.13872\n",
      "[59]\tvalid_0's multi_logloss: 3.07067\n",
      "[60]\tvalid_0's multi_logloss: 3.14438\n",
      "[61]\tvalid_0's multi_logloss: 3.17665\n",
      "[62]\tvalid_0's multi_logloss: 3.34235\n",
      "[63]\tvalid_0's multi_logloss: 3.43652\n",
      "[64]\tvalid_0's multi_logloss: 3.46166\n",
      "[65]\tvalid_0's multi_logloss: 3.59329\n",
      "[66]\tvalid_0's multi_logloss: 3.38905\n",
      "[67]\tvalid_0's multi_logloss: 3.35287\n",
      "[68]\tvalid_0's multi_logloss: 3.41895\n",
      "[69]\tvalid_0's multi_logloss: 3.40678\n",
      "[70]\tvalid_0's multi_logloss: 3.318\n",
      "[71]\tvalid_0's multi_logloss: 3.32784\n",
      "[72]\tvalid_0's multi_logloss: 3.34687\n",
      "[73]\tvalid_0's multi_logloss: 3.35249\n",
      "[74]\tvalid_0's multi_logloss: 3.37121\n",
      "[75]\tvalid_0's multi_logloss: 3.38588\n",
      "[76]\tvalid_0's multi_logloss: 3.48899\n",
      "[77]\tvalid_0's multi_logloss: 3.38181\n",
      "[78]\tvalid_0's multi_logloss: 3.40674\n",
      "[79]\tvalid_0's multi_logloss: 3.39281\n",
      "[80]\tvalid_0's multi_logloss: 3.42012\n",
      "[81]\tvalid_0's multi_logloss: 3.39735\n",
      "[82]\tvalid_0's multi_logloss: 3.41691\n",
      "[83]\tvalid_0's multi_logloss: 3.40769\n",
      "[84]\tvalid_0's multi_logloss: 3.84565\n",
      "[85]\tvalid_0's multi_logloss: 3.56182\n",
      "[86]\tvalid_0's multi_logloss: 3.53176\n",
      "[87]\tvalid_0's multi_logloss: 3.56004\n",
      "[88]\tvalid_0's multi_logloss: 3.77405\n",
      "[89]\tvalid_0's multi_logloss: 3.57551\n",
      "[90]\tvalid_0's multi_logloss: 3.61795\n",
      "[91]\tvalid_0's multi_logloss: 3.54694\n",
      "[92]\tvalid_0's multi_logloss: 3.4983\n",
      "[93]\tvalid_0's multi_logloss: 3.5722\n",
      "[94]\tvalid_0's multi_logloss: 3.57089\n",
      "[95]\tvalid_0's multi_logloss: 3.60191\n",
      "[96]\tvalid_0's multi_logloss: 3.58474\n",
      "[97]\tvalid_0's multi_logloss: 3.55854\n",
      "[98]\tvalid_0's multi_logloss: 3.53771\n",
      "[99]\tvalid_0's multi_logloss: 3.51185\n",
      "[100]\tvalid_0's multi_logloss: 3.54137\n",
      "[101]\tvalid_0's multi_logloss: 3.57977\n",
      "[102]\tvalid_0's multi_logloss: 3.52939\n",
      "[103]\tvalid_0's multi_logloss: 3.55033\n",
      "[104]\tvalid_0's multi_logloss: 3.58073\n",
      "[105]\tvalid_0's multi_logloss: 3.54337\n",
      "[106]\tvalid_0's multi_logloss: 3.50373\n",
      "[107]\tvalid_0's multi_logloss: 3.49966\n",
      "[108]\tvalid_0's multi_logloss: 3.50585\n",
      "[109]\tvalid_0's multi_logloss: 3.56019\n",
      "[110]\tvalid_0's multi_logloss: 3.58181\n",
      "[111]\tvalid_0's multi_logloss: 3.51116\n"
     ]
    },
    {
     "data": {
      "text/plain": [
       "LGBMClassifier(n_estimators=800)"
      ]
     },
     "execution_count": 65,
     "metadata": {},
     "output_type": "execute_result"
    }
   ],
   "source": [
    "import lightgbm as lgb  # 없을 경우 cmd/anaconda prompt에서 install\n",
    "from math import sqrt\n",
    "from sklearn.metrics import mean_squared_error\n",
    "\n",
    "model = lgb.LGBMClassifier(n_estimators= 800)\n",
    "\n",
    "model.fit(X_train, y_train, eval_set=(X_test, y_test), \n",
    "            early_stopping_rounds= 100,\n",
    "            eval_metric='logloss',\n",
    "            feature_name='auto', \n",
    "            categorical_feature = 'auto', \n",
    "            verbose= True)"
   ]
  },
  {
   "cell_type": "code",
   "execution_count": 67,
   "id": "487e26ec",
   "metadata": {},
   "outputs": [
    {
     "name": "stdout",
     "output_type": "stream",
     "text": [
      "Prdiction: 0.6908241375882295\n"
     ]
    }
   ],
   "source": [
    "# make predictions\n",
    "expected_y  = y_test\n",
    "y_pred = model.predict(X_test)\n",
    "\n",
    "# Print the prediction accuracy\n",
    "print(\"Prdiction:\",metrics.accuracy_score(y_test, y_pred))\n"
   ]
  },
  {
   "cell_type": "code",
   "execution_count": 64,
   "id": "038bbd84",
   "metadata": {},
   "outputs": [
    {
     "data": {
      "text/plain": [
       "Text(0.5, 1.0, 'Feature imporance-LightGBM')"
      ]
     },
     "execution_count": 64,
     "metadata": {},
     "output_type": "execute_result"
    },
    {
     "data": {
      "image/png": "[encoded data removed]",
      "text/plain": [
       "<Figure size 576x432 with 1 Axes>"
      ]
     },
     "metadata": {
      "needs_background": "light"
     },
     "output_type": "display_data"
    }
   ],
   "source": [
    "feat_imp = pd.Series(model.feature_importances_, index = f.columns)\n",
    "feat_imp.nlargest(30).plot(kind = 'barh', figsize = (8,6))\n",
    "plt.title('Feature imporance-LightGBM')"
   ]
  }
 ],
 "metadata": {
  "kernelspec": {
   "display_name": "Python 3 (ipykernel)",
   "language": "python",
   "name": "python3"
  },
  "language_info": {
   "codemirror_mode": {
    "name": "ipython",
    "version": 3
   },
   "file_extension": ".py",
   "mimetype": "text/x-python",
   "name": "python",
   "nbconvert_exporter": "python",
   "pygments_lexer": "ipython3",
   "version": "3.9.7"
  }
 },
 "nbformat": 4,
 "nbformat_minor": 5
}
